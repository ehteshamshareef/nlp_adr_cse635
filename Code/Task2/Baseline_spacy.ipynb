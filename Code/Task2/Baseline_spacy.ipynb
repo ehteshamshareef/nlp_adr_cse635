{
 "cells": [
  {
   "cell_type": "code",
   "execution_count": 0,
   "metadata": {
    "colab": {},
    "colab_type": "code",
    "id": "nQlw3_ISmqFt"
   },
   "outputs": [],
   "source": [
    "import plac\n",
    "import random\n",
    "from pathlib import Path\n",
    "import spacy\n",
    "from spacy.util import minibatch, compounding\n",
    "import pandas as pd\n",
    "import numpy as np"
   ]
  },
  {
   "cell_type": "code",
   "execution_count": 0,
   "metadata": {
    "colab": {},
    "colab_type": "code",
    "id": "C5-9LR94nQFl"
   },
   "outputs": [],
   "source": []
  },
  {
   "cell_type": "code",
   "execution_count": 0,
   "metadata": {
    "colab": {
     "base_uri": "https://localhost:8080/",
     "height": 122
    },
    "colab_type": "code",
    "executionInfo": {
     "elapsed": 19440,
     "status": "ok",
     "timestamp": 1588215003358,
     "user": {
      "displayName": "Mohd Ehtesham Shareef",
      "photoUrl": "",
      "userId": "12229081330343024938"
     },
     "user_tz": 240
    },
    "id": "CvnaES3Fm1Im",
    "outputId": "2f3b603c-721d-4fea-a78d-0720c8f18486"
   },
   "outputs": [
    {
     "name": "stdout",
     "output_type": "stream",
     "text": [
      "Go to this URL in a browser: https://accounts.google.com/o/oauth2/auth?client_id=947318989803-6bn6qk8qdgf4n4g3pfee6491hc0brc4i.apps.googleusercontent.com&redirect_uri=urn%3aietf%3awg%3aoauth%3a2.0%3aoob&response_type=code&scope=email%20https%3a%2f%2fwww.googleapis.com%2fauth%2fdocs.test%20https%3a%2f%2fwww.googleapis.com%2fauth%2fdrive%20https%3a%2f%2fwww.googleapis.com%2fauth%2fdrive.photos.readonly%20https%3a%2f%2fwww.googleapis.com%2fauth%2fpeopleapi.readonly\n",
      "\n",
      "Enter your authorization code:\n",
      "··········\n",
      "Mounted at /content/gdrive\n"
     ]
    }
   ],
   "source": [
    "from google.colab import drive\n",
    "drive.mount('/content/gdrive')"
   ]
  },
  {
   "cell_type": "code",
   "execution_count": 0,
   "metadata": {
    "colab": {},
    "colab_type": "code",
    "id": "I__-hbxdmqFw"
   },
   "outputs": [],
   "source": [
    "df_train = pd.read_csv('/content/gdrive/My Drive/adr-extraction-master/task3_training.tsv',sep = \"\\t\", encoding = \"utf-8-sig\")\n",
    "df_test = pd.read_csv('/content/gdrive/My Drive/adr-extraction-master/task3_validation.tsv',sep = \"\\t\", encoding = \"utf-8-sig\")"
   ]
  },
  {
   "cell_type": "code",
   "execution_count": 0,
   "metadata": {
    "colab": {},
    "colab_type": "code",
    "id": "q8bhSgkpmqFz"
   },
   "outputs": [],
   "source": [
    "df_train = df_train.loc[:, ~df_train.columns.str.contains('^Unnamed')]"
   ]
  },
  {
   "cell_type": "code",
   "execution_count": 1,
   "metadata": {
    "colab": {
     "base_uri": "https://localhost:8080/",
     "height": 181
    },
    "colab_type": "code",
    "collapsed": true,
    "executionInfo": {
     "elapsed": 731,
     "status": "error",
     "timestamp": 1588366276406,
     "user": {
      "displayName": "Mohd Ehtesham Shareef",
      "photoUrl": "",
      "userId": "12229081330343024938"
     },
     "user_tz": 240
    },
    "id": "JDyTDk4smqF1",
    "outputId": "3d276f16-8979-4764-afbe-52b8ca5b5674"
   },
   "outputs": [
    {
     "ename": "NameError",
     "evalue": "ignored",
     "output_type": "error",
     "traceback": [
      "\u001b[0;31m---------------------------------------------------------------------------\u001b[0m",
      "\u001b[0;31mNameError\u001b[0m                                 Traceback (most recent call last)",
      "\u001b[0;32m<ipython-input-1-53af9227c145>\u001b[0m in \u001b[0;36m<module>\u001b[0;34m()\u001b[0m\n\u001b[0;32m----> 1\u001b[0;31m \u001b[0mdf_train\u001b[0m \u001b[0;34m=\u001b[0m \u001b[0mdf_train\u001b[0m\u001b[0;34m.\u001b[0m\u001b[0mdropna\u001b[0m\u001b[0;34m(\u001b[0m\u001b[0msubset\u001b[0m\u001b[0;34m=\u001b[0m\u001b[0;34m[\u001b[0m\u001b[0;34m'type'\u001b[0m\u001b[0;34m]\u001b[0m\u001b[0;34m)\u001b[0m\u001b[0;34m\u001b[0m\u001b[0;34m\u001b[0m\u001b[0m\n\u001b[0m\u001b[1;32m      2\u001b[0m \u001b[0mdf_train\u001b[0m \u001b[0;34m=\u001b[0m \u001b[0mdf_train\u001b[0m\u001b[0;34m.\u001b[0m\u001b[0mgroupby\u001b[0m\u001b[0;34m(\u001b[0m\u001b[0;34m'tweet_id'\u001b[0m\u001b[0;34m,\u001b[0m\u001b[0msort\u001b[0m\u001b[0;34m=\u001b[0m\u001b[0;32mFalse\u001b[0m\u001b[0;34m)\u001b[0m\u001b[0;34m.\u001b[0m\u001b[0magg\u001b[0m\u001b[0;34m(\u001b[0m\u001b[0;32mlambda\u001b[0m \u001b[0mx\u001b[0m\u001b[0;34m:\u001b[0m \u001b[0mx\u001b[0m\u001b[0;34m.\u001b[0m\u001b[0mtolist\u001b[0m\u001b[0;34m(\u001b[0m\u001b[0;34m)\u001b[0m\u001b[0;34m)\u001b[0m\u001b[0;34m\u001b[0m\u001b[0;34m\u001b[0m\u001b[0m\n",
      "\u001b[0;31mNameError\u001b[0m: name 'df_train' is not defined"
     ]
    }
   ],
   "source": [
    "df_train = df_train.dropna(subset=['type'])\n",
    "df_train = df_train.groupby('tweet_id',sort=False).agg(lambda x: x.tolist())"
   ]
  },
  {
   "cell_type": "markdown",
   "metadata": {
    "colab_type": "text",
    "id": "47jgBOIlczPn"
   },
   "source": []
  },
  {
   "cell_type": "code",
   "execution_count": 0,
   "metadata": {
    "colab": {},
    "colab_type": "code",
    "id": "JODrK7fLc0TW"
   },
   "outputs": [],
   "source": [
    "def merge(intervals):\n",
    "  if len(intervals)==0:\n",
    "      return []\n",
    "  intervals = sorted(intervals,key = lambda x : x[0])\n",
    "  current = intervals[0]\n",
    "  result = []\n",
    "  for i in range(len(intervals)):\n",
    "      if current[0]<=intervals[i][0]<=current[1]:\n",
    "          current[1] = max(current[1],intervals[i][1])\n",
    "          continue\n",
    "      else:\n",
    "          result.append(current)\n",
    "          current = intervals[i]\n",
    "  result.append(current)\n",
    "  return result"
   ]
  },
  {
   "cell_type": "code",
   "execution_count": 0,
   "metadata": {
    "colab": {
     "base_uri": "https://localhost:8080/",
     "height": 388
    },
    "colab_type": "code",
    "executionInfo": {
     "elapsed": 737,
     "status": "ok",
     "timestamp": 1588215687442,
     "user": {
      "displayName": "Mohd Ehtesham Shareef",
      "photoUrl": "",
      "userId": "12229081330343024938"
     },
     "user_tz": 240
    },
    "id": "EVQPrthwmqF4",
    "outputId": "7d6efd64-e3a8-4ef0-8573-d16847d659fa"
   },
   "outputs": [
    {
     "data": {
      "text/html": [
       "<div>\n",
       "<style scoped>\n",
       "    .dataframe tbody tr th:only-of-type {\n",
       "        vertical-align: middle;\n",
       "    }\n",
       "\n",
       "    .dataframe tbody tr th {\n",
       "        vertical-align: top;\n",
       "    }\n",
       "\n",
       "    .dataframe thead th {\n",
       "        text-align: right;\n",
       "    }\n",
       "</style>\n",
       "<table border=\"1\" class=\"dataframe\">\n",
       "  <thead>\n",
       "    <tr style=\"text-align: right;\">\n",
       "      <th></th>\n",
       "      <th>begin</th>\n",
       "      <th>end</th>\n",
       "      <th>type</th>\n",
       "      <th>extraction</th>\n",
       "      <th>drug</th>\n",
       "      <th>tweet</th>\n",
       "      <th>meddra_code</th>\n",
       "      <th>meddra_term</th>\n",
       "    </tr>\n",
       "    <tr>\n",
       "      <th>tweet_id</th>\n",
       "      <th></th>\n",
       "      <th></th>\n",
       "      <th></th>\n",
       "      <th></th>\n",
       "      <th></th>\n",
       "      <th></th>\n",
       "      <th></th>\n",
       "      <th></th>\n",
       "    </tr>\n",
       "  </thead>\n",
       "  <tbody>\n",
       "    <tr>\n",
       "      <th>326398829849092097</th>\n",
       "      <td>[32.0]</td>\n",
       "      <td>[43.0]</td>\n",
       "      <td>[ADR]</td>\n",
       "      <td>[gain weight]</td>\n",
       "      <td>[fluoxetine]</td>\n",
       "      <td>[i think my tablets have made me gain weight. ...</td>\n",
       "      <td>[10047896.0]</td>\n",
       "      <td>[weight gain]</td>\n",
       "    </tr>\n",
       "    <tr>\n",
       "      <th>326462255468277761</th>\n",
       "      <td>[67.0]</td>\n",
       "      <td>[73.0]</td>\n",
       "      <td>[ADR]</td>\n",
       "      <td>[dreams]</td>\n",
       "      <td>[quetiapine]</td>\n",
       "      <td>[suffice to say i am not particularly a fan of...</td>\n",
       "      <td>[10013632.0]</td>\n",
       "      <td>[dreams abnormal]</td>\n",
       "    </tr>\n",
       "    <tr>\n",
       "      <th>326614974128611328</th>\n",
       "      <td>[8.0]</td>\n",
       "      <td>[26.0]</td>\n",
       "      <td>[ADR]</td>\n",
       "      <td>[light nights sleep]</td>\n",
       "      <td>[venlafaxine]</td>\n",
       "      <td>[another light nights sleep brought to me cour...</td>\n",
       "      <td>[10040995.0]</td>\n",
       "      <td>[sleep disturbance]</td>\n",
       "    </tr>\n",
       "    <tr>\n",
       "      <th>326665428493557760</th>\n",
       "      <td>[40.0]</td>\n",
       "      <td>[53.0]</td>\n",
       "      <td>[ADR]</td>\n",
       "      <td>[added 1 stone]</td>\n",
       "      <td>[quetiapine]</td>\n",
       "      <td>[@pseudodeviant i clock in at 16 stone (added ...</td>\n",
       "      <td>[10047896.0]</td>\n",
       "      <td>[weight gain]</td>\n",
       "    </tr>\n",
       "    <tr>\n",
       "      <th>326732768149135360</th>\n",
       "      <td>[16.0, 38.0, 121.0]</td>\n",
       "      <td>[27.0, 47.0, 131.0]</td>\n",
       "      <td>[ADR, ADR, ADR]</td>\n",
       "      <td>[limbs ached, shivering, withdrawal]</td>\n",
       "      <td>[venlafaxine, venlafaxine, venlafaxine]</td>\n",
       "      <td>[wondered why my limbs ached and i was shiveri...</td>\n",
       "      <td>[10000448.0, 10040558.0, 10073281.0]</td>\n",
       "      <td>[aching in limb, shivering, withdrawal symptom]</td>\n",
       "    </tr>\n",
       "  </tbody>\n",
       "</table>\n",
       "</div>"
      ],
      "text/plain": [
       "                                  begin  ...                                      meddra_term\n",
       "tweet_id                                 ...                                                 \n",
       "326398829849092097               [32.0]  ...                                    [weight gain]\n",
       "326462255468277761               [67.0]  ...                                [dreams abnormal]\n",
       "326614974128611328                [8.0]  ...                              [sleep disturbance]\n",
       "326665428493557760               [40.0]  ...                                    [weight gain]\n",
       "326732768149135360  [16.0, 38.0, 121.0]  ...  [aching in limb, shivering, withdrawal symptom]\n",
       "\n",
       "[5 rows x 8 columns]"
      ]
     },
     "execution_count": 27,
     "metadata": {
      "tags": []
     },
     "output_type": "execute_result"
    }
   ],
   "source": [
    "df_train.head()"
   ]
  },
  {
   "cell_type": "code",
   "execution_count": 0,
   "metadata": {
    "colab": {},
    "colab_type": "code",
    "id": "ChJ6xGTecPo3"
   },
   "outputs": [],
   "source": [
    "df_train.to_csv ('/content/gdrive/My Drive/adr-extraction-master/task3_edited.csv', index = False, header=True)"
   ]
  },
  {
   "cell_type": "code",
   "execution_count": 0,
   "metadata": {
    "colab": {
     "base_uri": "https://localhost:8080/",
     "height": 51
    },
    "colab_type": "code",
    "executionInfo": {
     "elapsed": 1035,
     "status": "ok",
     "timestamp": 1588215699681,
     "user": {
      "displayName": "Mohd Ehtesham Shareef",
      "photoUrl": "",
      "userId": "12229081330343024938"
     },
     "user_tz": 240
    },
    "id": "P4QOs3remqF7",
    "outputId": "0d8f8738-814c-49f9-af0a-22580c392f87"
   },
   "outputs": [
    {
     "data": {
      "text/plain": [
       "('i think my tablets have made me gain weight. anyone on fluoxetine/prozac? #replytweet',\n",
       " {'entities': [(32, 43, 'ADR')]})"
      ]
     },
     "execution_count": 29,
     "metadata": {
      "tags": []
     },
     "output_type": "execute_result"
    }
   ],
   "source": [
    "import math\n",
    "\n",
    "TRAIN_DATA = []\n",
    "for index,row in df_train.iterrows():\n",
    "  entityArray = []\n",
    "  for i in range(len(row.begin)):\n",
    "      entityArray.append([int(row.begin[i]),int(row.end[i])])\n",
    "  entityArray = merge(entityArray)\n",
    "  new = []\n",
    "  for item in entityArray:\n",
    "    new.append((item[0],item[1],\"ADR\"))\n",
    "  TRAIN_DATA.append((row.tweet[0],{\"entities\": new}))\n",
    "\n",
    "TRAIN_DATA[0]\n",
    "    \n",
    "    "
   ]
  },
  {
   "cell_type": "code",
   "execution_count": 0,
   "metadata": {
    "colab": {
     "base_uri": "https://localhost:8080/",
     "height": 68
    },
    "colab_type": "code",
    "executionInfo": {
     "elapsed": 972,
     "status": "ok",
     "timestamp": 1588215704816,
     "user": {
      "displayName": "Mohd Ehtesham Shareef",
      "photoUrl": "",
      "userId": "12229081330343024938"
     },
     "user_tz": 240
    },
    "id": "aucZolfDe2gS",
    "outputId": "cbb088ff-5b0b-4751-d62a-2f58921ad1e2"
   },
   "outputs": [
    {
     "data": {
      "text/plain": [
       "['i think my tablets have made me gain weight. anyone on fluoxetine/prozac? #replytweet',\n",
       " '32',\n",
       " '43']"
      ]
     },
     "execution_count": 30,
     "metadata": {
      "tags": []
     },
     "output_type": "execute_result"
    }
   ],
   "source": [
    "final = []\n",
    "# with open('/content/gdrive/My Drive/adr-extraction-master/task2_combined.csv', 'w') as f:\n",
    "for item in TRAIN_DATA:\n",
    "  begin = []\n",
    "  end = []\n",
    "  for i in range(len(item[1][\"entities\"])):\n",
    "    begin.append(str(item[1][\"entities\"][i][0]))\n",
    "    end.append(str(item[1][\"entities\"][i][1]))\n",
    "  final.append([item[0],\",\".join(begin),\",\".join(end)])\n",
    "final[0]\n",
    "      # f.write(\"{}{}{}{}\".format(item[0],begin,end,'\\n'))"
   ]
  },
  {
   "cell_type": "code",
   "execution_count": 0,
   "metadata": {
    "colab": {},
    "colab_type": "code",
    "id": "SLnVnj9ht9Mq"
   },
   "outputs": [],
   "source": [
    "import csv\n",
    "\n",
    "with open(\"/content/gdrive/My Drive/adr-extraction-master/task2_training.csv\", \"w\", newline=\"\",encoding = \"utf-8\") as f:\n",
    "    writer = csv.writer(f,delimiter='\\t')\n",
    "    writer.writerows(final)"
   ]
  },
  {
   "cell_type": "code",
   "execution_count": 0,
   "metadata": {
    "colab": {},
    "colab_type": "code",
    "id": "TincMgEkmqF-"
   },
   "outputs": [],
   "source": [
    "def main(model=None, output_dir=\"/content/gdrive/My Drive/adr-extraction-master\", n_iter=100):\n",
    "    if model is not None:\n",
    "        nlp = spacy.load(model)  # load existing spaCy model\n",
    "        print(\"Loaded model '%s'\" % model)\n",
    "    else:\n",
    "        nlp = spacy.blank(\"en\")  # create blank Language class\n",
    "        print(\"Created blank 'en' model\")\n",
    "\n",
    "    # create the built-in pipeline components and add them to the pipeline\n",
    "    # nlp.create_pipe works for built-ins that are registered with spaCy\n",
    "    if \"ner\" not in nlp.pipe_names:\n",
    "        ner = nlp.create_pipe(\"ner\")\n",
    "        nlp.add_pipe(ner, last=True)\n",
    "    # otherwise, get it so we can add labels\n",
    "    else:\n",
    "        ner = nlp.get_pipe(\"ner\")\n",
    "\n",
    "    # add labels\n",
    "    for _, annotations in TRAIN_DATA:\n",
    "        for ent in annotations.get(\"entities\"):\n",
    "            ner.add_label(ent[2])\n",
    "\n",
    "    # get names of other pipes to disable them during training\n",
    "    pipe_exceptions = [\"ner\", \"trf_wordpiecer\", \"trf_tok2vec\"]\n",
    "    other_pipes = [pipe for pipe in nlp.pipe_names if pipe not in pipe_exceptions]\n",
    "    with nlp.disable_pipes(*other_pipes):  # only train NER\n",
    "        # reset and initialize the weights randomly – but only if we're\n",
    "        # training a new model\n",
    "        if model is None:\n",
    "            nlp.begin_training()\n",
    "        for itn in range(n_iter):\n",
    "            random.shuffle(TRAIN_DATA)\n",
    "            losses = {}\n",
    "            # batch up the examples using spaCy's minibatch\n",
    "            batches = minibatch(TRAIN_DATA, size=compounding(4.0, 32.0, 1.001))\n",
    "            for batch in batches:\n",
    "                texts, annotations = zip(*batch)\n",
    "                nlp.update(\n",
    "                    texts,  # batch of texts\n",
    "                    annotations,  # batch of annotations\n",
    "                    drop=0.5,  # dropout - make it harder to memorise data\n",
    "                    losses=losses,\n",
    "                )\n",
    "            print(\"Losses\", losses)\n",
    "\n",
    "    # test the trained model\n",
    "    for text, _ in TRAIN_DATA:\n",
    "        doc = nlp(text)\n",
    "        print(\"Entities\", [(ent.text, ent.label_) for ent in doc.ents])\n",
    "        print(\"Tokens\", [(t.text, t.ent_type_, t.ent_iob) for t in doc])\n",
    "\n",
    "    # save model to output directory\n",
    "    if output_dir is not None:\n",
    "        output_dir = Path(output_dir)\n",
    "        if not output_dir.exists():\n",
    "            output_dir.mkdir()\n",
    "        nlp.to_disk(output_dir)\n",
    "        print(\"Saved model to\", output_dir)\n",
    "\n",
    "        # test the saved model\n",
    "        print(\"Loading from\", output_dir)\n",
    "        nlp2 = spacy.load(output_dir)\n",
    "        for text, _ in TRAIN_DATA:\n",
    "            doc = nlp2(text)\n",
    "            print(\"Entities\", [(ent.text, ent.label_) for ent in doc.ents])\n",
    "            print(\"Tokens\", [(t.text, t.ent_type_, t.ent_iob) for t in doc])\n",
    "\n",
    "\n",
    "if __name__ == \"__main__\":\n",
    "    main()\n",
    "\n"
   ]
  },
  {
   "cell_type": "code",
   "execution_count": 0,
   "metadata": {
    "colab": {
     "base_uri": "https://localhost:8080/",
     "height": 289
    },
    "colab_type": "code",
    "executionInfo": {
     "elapsed": 1013,
     "status": "ok",
     "timestamp": 1588216504298,
     "user": {
      "displayName": "Mohd Ehtesham Shareef",
      "photoUrl": "",
      "userId": "12229081330343024938"
     },
     "user_tz": 240
    },
    "id": "1L0wnmuYqY8y",
    "outputId": "a5510842-87ab-4c02-ecb8-b4544e0fe005"
   },
   "outputs": [
    {
     "data": {
      "text/html": [
       "<div>\n",
       "<style scoped>\n",
       "    .dataframe tbody tr th:only-of-type {\n",
       "        vertical-align: middle;\n",
       "    }\n",
       "\n",
       "    .dataframe tbody tr th {\n",
       "        vertical-align: top;\n",
       "    }\n",
       "\n",
       "    .dataframe thead th {\n",
       "        text-align: right;\n",
       "    }\n",
       "</style>\n",
       "<table border=\"1\" class=\"dataframe\">\n",
       "  <thead>\n",
       "    <tr style=\"text-align: right;\">\n",
       "      <th></th>\n",
       "      <th>tweet_id</th>\n",
       "      <th>begin</th>\n",
       "      <th>end</th>\n",
       "      <th>type</th>\n",
       "      <th>extraction</th>\n",
       "      <th>drug</th>\n",
       "      <th>tweet</th>\n",
       "      <th>meddra_code</th>\n",
       "      <th>meddra_term</th>\n",
       "    </tr>\n",
       "  </thead>\n",
       "  <tbody>\n",
       "    <tr>\n",
       "      <th>0</th>\n",
       "      <td>332317478170546176</td>\n",
       "      <td>28.0</td>\n",
       "      <td>37.0</td>\n",
       "      <td>ADR</td>\n",
       "      <td>allergies</td>\n",
       "      <td>avelox</td>\n",
       "      <td>do you have any medication allergies? \"asthma!...</td>\n",
       "      <td>10013661.0</td>\n",
       "      <td>drug allergy</td>\n",
       "    </tr>\n",
       "    <tr>\n",
       "      <th>1</th>\n",
       "      <td>347806215776116737</td>\n",
       "      <td>31.0</td>\n",
       "      <td>46.0</td>\n",
       "      <td>ADR</td>\n",
       "      <td>HURT YOUR Liver</td>\n",
       "      <td>avelox</td>\n",
       "      <td>@ashleylvivian if #avelox has hurt your liver,...</td>\n",
       "      <td>10024668.0</td>\n",
       "      <td>liver damage</td>\n",
       "    </tr>\n",
       "    <tr>\n",
       "      <th>2</th>\n",
       "      <td>350336129817509888</td>\n",
       "      <td>48.0</td>\n",
       "      <td>50.0</td>\n",
       "      <td>ADR</td>\n",
       "      <td>AD</td>\n",
       "      <td>baclofen</td>\n",
       "      <td>apparently, baclofen greatly exacerbates the \"...</td>\n",
       "      <td>10003731.0</td>\n",
       "      <td>attention deficit disorder</td>\n",
       "    </tr>\n",
       "    <tr>\n",
       "      <th>3</th>\n",
       "      <td>350336129817509888</td>\n",
       "      <td>88.0</td>\n",
       "      <td>93.0</td>\n",
       "      <td>ADR</td>\n",
       "      <td>focus</td>\n",
       "      <td>baclofen</td>\n",
       "      <td>apparently, baclofen greatly exacerbates the \"...</td>\n",
       "      <td>10003738.0</td>\n",
       "      <td>attention impaired</td>\n",
       "    </tr>\n",
       "    <tr>\n",
       "      <th>4</th>\n",
       "      <td>332540699692130304</td>\n",
       "      <td>11.0</td>\n",
       "      <td>15.0</td>\n",
       "      <td>ADR</td>\n",
       "      <td>died</td>\n",
       "      <td>cipro</td>\n",
       "      <td>pt of mine died from cipro rt @ciproispoison: ...</td>\n",
       "      <td>10011906.0</td>\n",
       "      <td>death</td>\n",
       "    </tr>\n",
       "  </tbody>\n",
       "</table>\n",
       "</div>"
      ],
      "text/plain": [
       "             tweet_id  begin  ...  meddra_code                 meddra_term\n",
       "0  332317478170546176   28.0  ...   10013661.0                drug allergy\n",
       "1  347806215776116737   31.0  ...   10024668.0                liver damage\n",
       "2  350336129817509888   48.0  ...   10003731.0  attention deficit disorder\n",
       "3  350336129817509888   88.0  ...   10003738.0          attention impaired\n",
       "4  332540699692130304   11.0  ...   10011906.0                       death\n",
       "\n",
       "[5 rows x 9 columns]"
      ]
     },
     "execution_count": 45,
     "metadata": {
      "tags": []
     },
     "output_type": "execute_result"
    }
   ],
   "source": [
    "df_test.head()"
   ]
  },
  {
   "cell_type": "code",
   "execution_count": 0,
   "metadata": {
    "colab": {},
    "colab_type": "code",
    "id": "FjiJlBaArBuz"
   },
   "outputs": [],
   "source": [
    "df_test = df_test.dropna(subset=['type'])"
   ]
  },
  {
   "cell_type": "code",
   "execution_count": 0,
   "metadata": {
    "colab": {},
    "colab_type": "code",
    "id": "_bAejl2LrIl3"
   },
   "outputs": [],
   "source": [
    "df_test = df_test.groupby('tweet_id').agg(lambda x: x.tolist())"
   ]
  },
  {
   "cell_type": "code",
   "execution_count": 0,
   "metadata": {
    "colab": {
     "base_uri": "https://localhost:8080/",
     "height": 320
    },
    "colab_type": "code",
    "executionInfo": {
     "elapsed": 1109,
     "status": "ok",
     "timestamp": 1588216509768,
     "user": {
      "displayName": "Mohd Ehtesham Shareef",
      "photoUrl": "",
      "userId": "12229081330343024938"
     },
     "user_tz": 240
    },
    "id": "28-jmx-ikgIi",
    "outputId": "3e157d85-acbe-4ad6-9b16-434183fd3b4e"
   },
   "outputs": [
    {
     "data": {
      "text/html": [
       "<div>\n",
       "<style scoped>\n",
       "    .dataframe tbody tr th:only-of-type {\n",
       "        vertical-align: middle;\n",
       "    }\n",
       "\n",
       "    .dataframe tbody tr th {\n",
       "        vertical-align: top;\n",
       "    }\n",
       "\n",
       "    .dataframe thead th {\n",
       "        text-align: right;\n",
       "    }\n",
       "</style>\n",
       "<table border=\"1\" class=\"dataframe\">\n",
       "  <thead>\n",
       "    <tr style=\"text-align: right;\">\n",
       "      <th></th>\n",
       "      <th>begin</th>\n",
       "      <th>end</th>\n",
       "      <th>type</th>\n",
       "      <th>extraction</th>\n",
       "      <th>drug</th>\n",
       "      <th>tweet</th>\n",
       "      <th>meddra_code</th>\n",
       "      <th>meddra_term</th>\n",
       "    </tr>\n",
       "    <tr>\n",
       "      <th>tweet_id</th>\n",
       "      <th></th>\n",
       "      <th></th>\n",
       "      <th></th>\n",
       "      <th></th>\n",
       "      <th></th>\n",
       "      <th></th>\n",
       "      <th></th>\n",
       "      <th></th>\n",
       "    </tr>\n",
       "  </thead>\n",
       "  <tbody>\n",
       "    <tr>\n",
       "      <th>326406322323066883</th>\n",
       "      <td>[111.0, 45.0]</td>\n",
       "      <td>[117.0, 71.0]</td>\n",
       "      <td>[ADR, ADR]</td>\n",
       "      <td>[zombie, feel like crying but can't]</td>\n",
       "      <td>[olanzapine, olanzapine]</td>\n",
       "      <td>[thought of work is overwhelming me so much i ...</td>\n",
       "      <td>[10016384.0, 10011469.0]</td>\n",
       "      <td>[felt like a zombie, crying]</td>\n",
       "    </tr>\n",
       "    <tr>\n",
       "      <th>326455480891346947</th>\n",
       "      <td>[108.0, 46.0]</td>\n",
       "      <td>[122.0, 55.0]</td>\n",
       "      <td>[ADR, ADR]</td>\n",
       "      <td>[hot &amp;amp; cold, Lethargic]</td>\n",
       "      <td>[venlafaxine, venlafaxine]</td>\n",
       "      <td>[5hrs sleep last night but stayed awake today....</td>\n",
       "      <td>[10016335.0, 10024262.0]</td>\n",
       "      <td>[feeling hot and cold, lethargic]</td>\n",
       "    </tr>\n",
       "    <tr>\n",
       "      <th>326575463835250689</th>\n",
       "      <td>[51.0]</td>\n",
       "      <td>[56.0]</td>\n",
       "      <td>[ADR]</td>\n",
       "      <td>[awake]</td>\n",
       "      <td>[quetiapine]</td>\n",
       "      <td>[@rbhu7_82 if i don't take my quetiapine i can...</td>\n",
       "      <td>[10041014.0]</td>\n",
       "      <td>[sleepiness]</td>\n",
       "    </tr>\n",
       "    <tr>\n",
       "      <th>326596903791902720</th>\n",
       "      <td>[36.0, 52.0]</td>\n",
       "      <td>[41.0, 77.0]</td>\n",
       "      <td>[ADR, ADR]</td>\n",
       "      <td>[sleep, stomach is a cement mixer]</td>\n",
       "      <td>[ofloxacin, ofloxacin]</td>\n",
       "      <td>[ciprofloxacin: how do you expect to sleep whe...</td>\n",
       "      <td>[10041017.0, 10042112.0]</td>\n",
       "      <td>[sleeplessness, stomach pain]</td>\n",
       "    </tr>\n",
       "    <tr>\n",
       "      <th>326789014290055168</th>\n",
       "      <td>[26.0, 53.0]</td>\n",
       "      <td>[32.0, 75.0]</td>\n",
       "      <td>[ADR, ADR]</td>\n",
       "      <td>[hungry, want to eat my own arm]</td>\n",
       "      <td>[olanzapine, olanzapine]</td>\n",
       "      <td>[@dopamine_diva q makes me hungry. olanzapine ...</td>\n",
       "      <td>[10020466.0, 10020466.0]</td>\n",
       "      <td>[hunger, hunger]</td>\n",
       "    </tr>\n",
       "  </tbody>\n",
       "</table>\n",
       "</div>"
      ],
      "text/plain": [
       "                            begin  ...                        meddra_term\n",
       "tweet_id                           ...                                   \n",
       "326406322323066883  [111.0, 45.0]  ...       [felt like a zombie, crying]\n",
       "326455480891346947  [108.0, 46.0]  ...  [feeling hot and cold, lethargic]\n",
       "326575463835250689         [51.0]  ...                       [sleepiness]\n",
       "326596903791902720   [36.0, 52.0]  ...      [sleeplessness, stomach pain]\n",
       "326789014290055168   [26.0, 53.0]  ...                   [hunger, hunger]\n",
       "\n",
       "[5 rows x 8 columns]"
      ]
     },
     "execution_count": 48,
     "metadata": {
      "tags": []
     },
     "output_type": "execute_result"
    }
   ],
   "source": [
    "df_test.head()"
   ]
  },
  {
   "cell_type": "code",
   "execution_count": 0,
   "metadata": {
    "colab": {},
    "colab_type": "code",
    "id": "Ppt9IFEJkvdm"
   },
   "outputs": [],
   "source": [
    "df_test.to_csv ('/content/gdrive/My Drive/adr-extraction-master/task3_edited.csv', index = False, header=True)"
   ]
  },
  {
   "cell_type": "code",
   "execution_count": 0,
   "metadata": {
    "colab": {
     "base_uri": "https://localhost:8080/",
     "height": 232
    },
    "colab_type": "code",
    "collapsed": true,
    "executionInfo": {
     "elapsed": 1100374,
     "status": "error",
     "timestamp": 1588037299788,
     "user": {
      "displayName": "Mohd Ehtesham Shareef",
      "photoUrl": "",
      "userId": "12229081330343024938"
     },
     "user_tz": 240
    },
    "id": "ALRRg9elrOPg",
    "outputId": "4e0ce1d6-991e-4f62-f7d2-8a119f2f2e97"
   },
   "outputs": [
    {
     "ename": "TypeError",
     "evalue": "ignored",
     "output_type": "error",
     "traceback": [
      "\u001b[0;31m---------------------------------------------------------------------------\u001b[0m",
      "\u001b[0;31mTypeError\u001b[0m                                 Traceback (most recent call last)",
      "\u001b[0;32m<ipython-input-28-3ad0023174db>\u001b[0m in \u001b[0;36m<module>\u001b[0;34m()\u001b[0m\n\u001b[1;32m      1\u001b[0m \u001b[0mTEST_DATA\u001b[0m \u001b[0;34m=\u001b[0m \u001b[0;34m[\u001b[0m\u001b[0;34m]\u001b[0m\u001b[0;34m\u001b[0m\u001b[0;34m\u001b[0m\u001b[0m\n\u001b[1;32m      2\u001b[0m \u001b[0;32mfor\u001b[0m \u001b[0mindex\u001b[0m\u001b[0;34m,\u001b[0m\u001b[0mrow\u001b[0m \u001b[0;32min\u001b[0m \u001b[0mdf_test\u001b[0m\u001b[0;34m.\u001b[0m\u001b[0miterrows\u001b[0m\u001b[0;34m(\u001b[0m\u001b[0;34m)\u001b[0m\u001b[0;34m:\u001b[0m\u001b[0;34m\u001b[0m\u001b[0;34m\u001b[0m\u001b[0m\n\u001b[0;32m----> 3\u001b[0;31m   \u001b[0mTEST_DATA\u001b[0m\u001b[0;34m.\u001b[0m\u001b[0mappend\u001b[0m\u001b[0;34m(\u001b[0m\u001b[0;34m(\u001b[0m\u001b[0mrow\u001b[0m\u001b[0;34m.\u001b[0m\u001b[0mtweet\u001b[0m\u001b[0;34m,\u001b[0m\u001b[0;34m{\u001b[0m\u001b[0;34m\"entities\"\u001b[0m\u001b[0;34m:\u001b[0m\u001b[0;34m[\u001b[0m\u001b[0;34m(\u001b[0m\u001b[0mint\u001b[0m\u001b[0;34m(\u001b[0m\u001b[0mrow\u001b[0m\u001b[0;34m.\u001b[0m\u001b[0mbegin\u001b[0m\u001b[0;34m)\u001b[0m\u001b[0;34m,\u001b[0m\u001b[0mint\u001b[0m\u001b[0;34m(\u001b[0m\u001b[0mrow\u001b[0m\u001b[0;34m.\u001b[0m\u001b[0mend\u001b[0m\u001b[0;34m)\u001b[0m\u001b[0;34m,\u001b[0m\u001b[0;34m\"ADR\"\u001b[0m\u001b[0;34m)\u001b[0m\u001b[0;34m]\u001b[0m\u001b[0;34m}\u001b[0m\u001b[0;34m)\u001b[0m\u001b[0;34m)\u001b[0m\u001b[0;34m\u001b[0m\u001b[0;34m\u001b[0m\u001b[0m\n\u001b[0m\u001b[1;32m      4\u001b[0m \u001b[0;34m\u001b[0m\u001b[0m\n\u001b[1;32m      5\u001b[0m \u001b[0mTEST_DATA\u001b[0m\u001b[0;34m[\u001b[0m\u001b[0;36m1\u001b[0m\u001b[0;34m]\u001b[0m\u001b[0;34m\u001b[0m\u001b[0;34m\u001b[0m\u001b[0m\n",
      "\u001b[0;31mTypeError\u001b[0m: int() argument must be a string, a bytes-like object or a number, not 'list'"
     ]
    }
   ],
   "source": [
    "# TEST_DATA = []\n",
    "# for index,row in df_test.iterrows():\n",
    "#   TEST_DATA.append((row.tweet,{\"entities\":[(int(row.begin),int(row.end),\"ADR\")]}))\n",
    "\n",
    "# TEST_DATA[1]"
   ]
  },
  {
   "cell_type": "code",
   "execution_count": 0,
   "metadata": {
    "colab": {},
    "colab_type": "code",
    "id": "a5oSNQ5F2qgJ"
   },
   "outputs": [],
   "source": [
    "nlp2 = spacy.load(\"/content/gdrive/My Drive/adr-extraction-master\")\n",
    "# for text, _ in TEST_DATA:\n",
    "#     doc = nlp2(text)\n",
    "#     print(\"Entities\", [(ent.text, ent.label_) for ent in doc.ents])\n",
    "#     print(\"Tokens\", [(t.text, t.ent_type_, t.ent_iob) for t in doc])"
   ]
  },
  {
   "cell_type": "code",
   "execution_count": 0,
   "metadata": {
    "colab": {
     "base_uri": "https://localhost:8080/",
     "height": 71
    },
    "colab_type": "code",
    "executionInfo": {
     "elapsed": 1111,
     "status": "ok",
     "timestamp": 1588216513556,
     "user": {
      "displayName": "Mohd Ehtesham Shareef",
      "photoUrl": "",
      "userId": "12229081330343024938"
     },
     "user_tz": 240
    },
    "id": "1_2Jz8Pyy2Mn",
    "outputId": "2c629b1c-fc1a-4272-fde2-8e5ba13cb6a3"
   },
   "outputs": [
    {
     "data": {
      "text/plain": [
       "(\"thought of work is overwhelming me so much i feel like crying but can't because olanzapine has me trapped in a zombie state #strugglewithin\",\n",
       " {'entities': [(45, 71, 'ADR'), (111, 117, 'ADR')]})"
      ]
     },
     "execution_count": 49,
     "metadata": {
      "tags": []
     },
     "output_type": "execute_result"
    }
   ],
   "source": [
    "import math\n",
    "\n",
    "TEST_DATA = []\n",
    "for index,row in df_test.iterrows():\n",
    "  entityArray = []\n",
    "  for i in range(len(row.begin)):\n",
    "      entityArray.append([int(row.begin[i]),int(row.end[i])])\n",
    "  entityArray = merge(entityArray)\n",
    "  new = []\n",
    "  for item in entityArray:\n",
    "    new.append((item[0],item[1],\"ADR\"))\n",
    "  TEST_DATA.append((row.tweet[0],{\"entities\": new}))\n",
    "\n",
    "TEST_DATA[0]\n",
    "    \n",
    "    "
   ]
  },
  {
   "cell_type": "code",
   "execution_count": 0,
   "metadata": {
    "colab": {
     "base_uri": "https://localhost:8080/",
     "height": 88
    },
    "colab_type": "code",
    "executionInfo": {
     "elapsed": 605,
     "status": "ok",
     "timestamp": 1588216516068,
     "user": {
      "displayName": "Mohd Ehtesham Shareef",
      "photoUrl": "",
      "userId": "12229081330343024938"
     },
     "user_tz": 240
    },
    "id": "deevJuYcxjBw",
    "outputId": "9ddc2472-2c6f-4e91-a73f-a9374b284868"
   },
   "outputs": [
    {
     "data": {
      "text/plain": [
       "[\"thought of work is overwhelming me so much i feel like crying but can't because olanzapine has me trapped in a zombie state #strugglewithin\",\n",
       " '45,111',\n",
       " '71,117']"
      ]
     },
     "execution_count": 50,
     "metadata": {
      "tags": []
     },
     "output_type": "execute_result"
    }
   ],
   "source": [
    "final = []\n",
    "# with open('/content/gdrive/My Drive/adr-extraction-master/task2_combined.csv', 'w') as f:\n",
    "for item in TEST_DATA:\n",
    "  begin = []\n",
    "  end = []\n",
    "  for i in range(len(item[1][\"entities\"])):\n",
    "    begin.append(str(item[1][\"entities\"][i][0]))\n",
    "    end.append(str(item[1][\"entities\"][i][1]))\n",
    "  final.append([item[0],\",\".join(begin),\",\".join(end)])\n",
    "final[0]\n",
    "      # f.write(\"{}{}{}{}\".format(item[0],begin,end,'\\n'))"
   ]
  },
  {
   "cell_type": "code",
   "execution_count": 0,
   "metadata": {
    "colab": {},
    "colab_type": "code",
    "id": "o_3c0EUxzZC4"
   },
   "outputs": [],
   "source": [
    "df_test.to_csv ('/content/gdrive/My Drive/adr-extraction-master/task3_edited.csv', index = False, header=True)"
   ]
  },
  {
   "cell_type": "code",
   "execution_count": 0,
   "metadata": {
    "colab": {},
    "colab_type": "code",
    "id": "FBAhbGuZx3O8"
   },
   "outputs": [],
   "source": [
    "import csv\n",
    "\n",
    "with open(\"/content/gdrive/My Drive/adr-extraction-master/task2_training.csv\", \"w\", newline=\"\",encoding = \"utf-8-sig\") as f:\n",
    "    writer = csv.writer(f,delimiter='\\t')\n",
    "    writer.writerows(final)"
   ]
  },
  {
   "cell_type": "code",
   "execution_count": 0,
   "metadata": {
    "colab": {},
    "colab_type": "code",
    "id": "IWgaJx6a3NCO"
   },
   "outputs": [],
   "source": [
    "import spacy\n",
    "from spacy.gold import GoldParse\n",
    "from spacy.scorer import Scorer\n",
    "\n",
    "def evaluate(ner_model, examples):\n",
    "    scorer = Scorer()\n",
    "    for input_, annot in examples:\n",
    "        doc_gold_text = ner_model.make_doc(input_)\n",
    "        gold = GoldParse(doc_gold_text, entities=annot[\"entities\"])\n",
    "        pred_value = ner_model(input_)\n",
    "        scorer.score(pred_value, gold)\n",
    "    return scorer.scores\n",
    "\n",
    "# example run\n",
    "\n",
    "# examples = [\n",
    "#     ('Who is Shaka Khan?',\n",
    "#      [(7, 17, 'PERSON')]),\n",
    "#     ('I like London and Berlin.',\n",
    "#      [(7, 13, 'LOC'), (18, 24, 'LOC')])\n",
    "# ]\n",
    " # for spaCy's pretrained use 'en_core_web_sm'\n",
    "results = evaluate(nlp2, TEST_DATA)"
   ]
  },
  {
   "cell_type": "code",
   "execution_count": 0,
   "metadata": {
    "colab": {
     "base_uri": "https://localhost:8080/",
     "height": 54
    },
    "colab_type": "code",
    "executionInfo": {
     "elapsed": 1257,
     "status": "ok",
     "timestamp": 1588037682695,
     "user": {
      "displayName": "Mohd Ehtesham Shareef",
      "photoUrl": "",
      "userId": "12229081330343024938"
     },
     "user_tz": 240
    },
    "id": "D4CXydrqzpVA",
    "outputId": "76cc4e76-bf42-4e74-988e-6a9c1fa4ec33"
   },
   "outputs": [
    {
     "name": "stdout",
     "output_type": "stream",
     "text": [
      "{'uas': 0.0, 'las': 0.0, 'las_per_type': {'': {'p': 0.0, 'r': 0.0, 'f': 0.0}}, 'ents_p': 53.103448275862064, 'ents_r': 33.771929824561404, 'ents_f': 41.286863270777474, 'ents_per_type': {'ADR': {'p': 53.103448275862064, 'r': 33.771929824561404, 'f': 41.286863270777474}}, 'tags_acc': 0.0, 'token_acc': 100.0, 'textcat_score': 0.0, 'textcats_per_cat': {}}\n"
     ]
    }
   ],
   "source": [
    "print (results)"
   ]
  },
  {
   "cell_type": "code",
   "execution_count": 0,
   "metadata": {
    "colab": {},
    "colab_type": "code",
    "id": "Wr614bF2ztRG"
   },
   "outputs": [],
   "source": []
  }
 ],
 "metadata": {
  "accelerator": "GPU",
  "colab": {
   "collapsed_sections": [],
   "name": "task2-spacy.ipynb",
   "provenance": []
  },
  "kernelspec": {
   "display_name": "Python 3",
   "language": "python",
   "name": "python3"
  },
  "language_info": {
   "codemirror_mode": {
    "name": "ipython",
    "version": 3
   },
   "file_extension": ".py",
   "mimetype": "text/x-python",
   "name": "python",
   "nbconvert_exporter": "python",
   "pygments_lexer": "ipython3",
   "version": "3.6.5"
  }
 },
 "nbformat": 4,
 "nbformat_minor": 1
}
